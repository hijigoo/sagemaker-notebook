{
 "cells": [
  {
   "cell_type": "markdown",
   "id": "ac974570",
   "metadata": {},
   "source": [
    "# Installation"
   ]
  },
  {
   "cell_type": "code",
   "execution_count": null,
   "id": "e87c9933",
   "metadata": {},
   "outputs": [],
   "source": [
    "!pip install sagemaker botocore boto3 awscli --upgrade"
   ]
  },
  {
   "cell_type": "code",
   "execution_count": null,
   "id": "60120317",
   "metadata": {},
   "outputs": [],
   "source": [
    "import botocore\n",
    "import boto3\n",
    "import sagemaker\n",
    "\n",
    "print(f\"botocore: {botocore.__version__}\")\n",
    "print(f\"boto3: {boto3.__version__}\")\n",
    "print(f\"sagemaker: {sagemaker.__version__}\")"
   ]
  },
  {
   "cell_type": "markdown",
   "id": "d44d2d2b",
   "metadata": {},
   "source": [
    "# SageMaker environment"
   ]
  },
  {
   "cell_type": "code",
   "execution_count": null,
   "id": "2ad756ae",
   "metadata": {},
   "outputs": [],
   "source": [
    "import sagemaker\n",
    "\n",
    "sess = sagemaker.Session()\n",
    "\n",
    "# 기본으로 사용할 버킷 (ex, 학습이 완료된 모델이 업로드)\n",
    "sagemaker_session_bucket = \"{session-bucket-name}\" # *변경필요*\n",
    "\n",
    "role = sagemaker.get_execution_role()\n",
    "sess = sagemaker.Session(default_bucket=sagemaker_session_bucket)\n",
    "# sess = sagemaker.Session()\n",
    "\n",
    "print(f\"sagemaker role arn: {role}\")\n",
    "print(f\"sagemaker bucket: {sagemaker_session_bucket}\")\n",
    "print(f\"sagemaker session region: {sess.boto_region_name}\")"
   ]
  },
  {
   "cell_type": "markdown",
   "id": "c2fb5662",
   "metadata": {},
   "source": [
    "# Upload datasets"
   ]
  },
  {
   "cell_type": "code",
   "execution_count": null,
   "id": "926970bb",
   "metadata": {},
   "outputs": [],
   "source": [
    "s3 = boto3.client('s3')\n",
    "\n",
    "def bucket_exists(bucket_name):\n",
    "    response = s3.list_buckets()\n",
    "    for bucket in response['Buckets']:\n",
    "        print(bucket)\n",
    "        if bucket['Name'] == bucket_name:\n",
    "            return True\n",
    "    return False\n",
    "\n",
    "# 학습 파일을 업로드할 버킷\n",
    "bucket_name = 'my-new-bucket-04111' # *변경필요*\n",
    "if not bucket_exists(bucket_name):\n",
    "    s3.create_bucket(Bucket=bucket_name,\n",
    "                    CreateBucketConfiguration={'LocationConstraint': sess.boto_region_name})\n",
    "\n",
    "# 업로드할 파일 경로 \n",
    "train_filename = './data/sample_buy_train.csv'\n",
    "test_filename = './data/sample_buy_test.csv'\n",
    "s3.upload_file(train_filename, bucket_name, 'datasets/train/sample_buy_train.csv')\n",
    "s3.upload_file(test_filename, bucket_name, 'datasets/test/sample_buy_test.csv')"
   ]
  },
  {
   "cell_type": "markdown",
   "id": "0f6fbc8f",
   "metadata": {},
   "source": [
    "# Train Model"
   ]
  },
  {
   "cell_type": "code",
   "execution_count": null,
   "id": "be196786",
   "metadata": {},
   "outputs": [],
   "source": [
    "import os\n",
    "from sagemaker.sklearn.estimator import SKLearn\n",
    "\n",
    "train = f\"s3://{bucket_name}/datasets/train\"\n",
    "test = f\"s3://{bucket_name}/datasets/test\""
   ]
  },
  {
   "cell_type": "code",
   "execution_count": null,
   "id": "fa7bb077",
   "metadata": {},
   "outputs": [],
   "source": [
    "sklearn_estimator = SKLearn('sklearn-train-and-deploy.py',\n",
    "                            role=role,\n",
    "                            sagemaker_session=sess,\n",
    "                            instance_type='ml.m4.xlarge',\n",
    "                            framework_version='1.0-1',\n",
    "                            hyperparameters = {'epochs': 20, 'batch-size': 64, 'learning-rate': 0.1})\n",
    "sklearn_estimator.fit({'train': train,\n",
    "                        'test': test})"
   ]
  },
  {
   "cell_type": "code",
   "execution_count": null,
   "id": "19528048",
   "metadata": {},
   "outputs": [],
   "source": [
    "print(sklearn_estimator.latest_training_job.name)\n",
    "print(sklearn_estimator.model_data)"
   ]
  },
  {
   "cell_type": "markdown",
   "id": "b3a94ad9",
   "metadata": {},
   "source": [
    "# Deploy Model"
   ]
  },
  {
   "cell_type": "code",
   "execution_count": null,
   "id": "45fc6399",
   "metadata": {
    "scrolled": false
   },
   "outputs": [],
   "source": [
    "# Deploy my estimator to a SageMaker Endpoint and get a Predictor\n",
    "predictor = sklearn_estimator.deploy(instance_type='ml.c4.xlarge',\n",
    "                                     initial_instance_count=1)"
   ]
  },
  {
   "cell_type": "markdown",
   "id": "c97db37e",
   "metadata": {},
   "source": [
    "# Deploy Model with training job name"
   ]
  },
  {
   "cell_type": "code",
   "execution_count": null,
   "id": "685f6fcd",
   "metadata": {},
   "outputs": [],
   "source": [
    "from sagemaker.sklearn.estimator import SKLearn\n",
    "\n",
    "# *변경필요*\n",
    "my_training_job_name = sklearn_estimator.latest_training_job.name\n",
    "# my_training_job_name = \"sagemaker-scikit-learn-2024-01-18-12-17-18-931\"\n",
    "sklearn_estimator = SKLearn.attach(my_training_job_name)\n",
    "predictor = sklearn_estimator.deploy(instance_type='ml.c4.xlarge',\n",
    "                                     initial_instance_count=1)"
   ]
  },
  {
   "cell_type": "markdown",
   "id": "3af62795",
   "metadata": {},
   "source": [
    "# Deploy Model with existing model url"
   ]
  },
  {
   "cell_type": "code",
   "execution_count": null,
   "id": "0d6db5ab",
   "metadata": {
    "scrolled": true
   },
   "outputs": [],
   "source": [
    "from sagemaker.sklearn.model import SKLearnModel\n",
    "\n",
    "# *변경필요*\n",
    "model_data = sklearn_estimator.model_data\n",
    "# model_data = \"s3://{model-bucket-name}/sagemaker-scikit-learn-2024-01-18-11-16-30-927/output/model.tar.gz\"\n",
    "sklearn_model = SKLearnModel(model_data=model_data,\n",
    "                             role=role,\n",
    "                             entry_point='sklearn-deploy.py',\n",
    "                             framework_version=\"1.0-1\")\n",
    "\n",
    "predictor = sklearn_model.deploy(instance_type=\"ml.c4.xlarge\",\n",
    "                                 initial_instance_count=1)"
   ]
  },
  {
   "cell_type": "markdown",
   "id": "6a49bbdd",
   "metadata": {},
   "source": [
    "# Predict Test"
   ]
  },
  {
   "cell_type": "code",
   "execution_count": null,
   "id": "41f0c7b0",
   "metadata": {},
   "outputs": [],
   "source": [
    "# `data` is a NumPy array or a Python list.\n",
    "# `response` is a NumPy array.\n",
    "from sklearn.preprocessing import StandardScaler\n",
    "\n",
    "x_data = [[80, 8, 7], [60, 8, 9], [25, 3, 2], [19, 4, 5], [30, 3, 3]]\n",
    "scaler = StandardScaler()\n",
    "scaler.fit(x_data)\n",
    "x_norm = scaler.transform(x_data)\n",
    "\n",
    "response = predictor.predict(x_norm)\n",
    "print(response)"
   ]
  },
  {
   "cell_type": "markdown",
   "id": "0883066d",
   "metadata": {},
   "source": [
    "# Predict Test with boto3"
   ]
  },
  {
   "cell_type": "code",
   "execution_count": null,
   "id": "d0e44d15",
   "metadata": {},
   "outputs": [],
   "source": [
    "import boto3\n",
    "import json\n",
    "from sklearn.preprocessing import StandardScaler\n",
    "\n",
    "runtime = boto3.client('runtime.sagemaker')\n",
    "\n",
    "x_data = [[80, 8, 7], [60, 8, 9], [25, 3, 2], [19, 4, 5], [30, 3, 3]]\n",
    "scaler = StandardScaler()\n",
    "scaler.fit(x_data)\n",
    "x_norm = scaler.transform(x_data)\n",
    "\n",
    "response = runtime.invoke_endpoint(\n",
    "    EndpointName=predictor.endpoint_name,\n",
    "#     EndpointName='sagemaker-scikit-learn-2024-01-18-11-40-57-770', # 변경필요\n",
    "    Body=json.dumps(x_norm.tolist()),  \n",
    "    ContentType='application/json'\n",
    ")\n",
    "\n",
    "\n",
    "result = json.loads(response['Body'].read().decode())\n",
    "print(result)"
   ]
  },
  {
   "cell_type": "markdown",
   "id": "e4ee3981",
   "metadata": {},
   "source": [
    "# Deploy Model with handling request "
   ]
  },
  {
   "cell_type": "code",
   "execution_count": null,
   "id": "01fa6c8d",
   "metadata": {},
   "outputs": [],
   "source": [
    "from sagemaker.sklearn.model import SKLearnModel\n",
    "\n",
    "# *변경필요*\n",
    "model_data = sklearn_estimator.model_data\n",
    "# model_data = \"s3://{model-bucket-name}/sagemaker-scikit-learn-2024-01-18-12-17-18-931/output/model.tar.gz\"\n",
    "sklearn_model = SKLearnModel(model_data=model_data,\n",
    "                             role=role,\n",
    "                             entry_point='sklearn-process-and-deploy.py',\n",
    "                             framework_version=\"1.0-1\")\n",
    "\n",
    "predictor = sklearn_model.deploy(instance_type=\"ml.c4.xlarge\",\n",
    "                                 initial_instance_count=1)"
   ]
  },
  {
   "cell_type": "markdown",
   "id": "cf517193",
   "metadata": {},
   "source": [
    "# Predict Test"
   ]
  },
  {
   "cell_type": "code",
   "execution_count": null,
   "id": "b7764f4e",
   "metadata": {
    "scrolled": true
   },
   "outputs": [],
   "source": [
    "# `data` is a NumPy array or a Python list.\n",
    "# `response` is a NumPy array.\n",
    "from sklearn.preprocessing import StandardScaler\n",
    "\n",
    "x_data = [[80, 8, 7], [60, 8, 9], [25, 3, 2], [19, 4, 5], [30, 3, 3]]\n",
    "response = predictor.predict(x_data)\n",
    "print(response)"
   ]
  },
  {
   "cell_type": "markdown",
   "id": "f47f00ed",
   "metadata": {},
   "source": [
    "# Predict Test with boto3"
   ]
  },
  {
   "cell_type": "code",
   "execution_count": null,
   "id": "7da76bcb",
   "metadata": {},
   "outputs": [],
   "source": [
    "import boto3\n",
    "import json\n",
    "from sklearn.preprocessing import StandardScaler\n",
    "\n",
    "runtime = boto3.client('runtime.sagemaker')\n",
    "\n",
    "x_data = [[80, 8, 7], [60, 8, 9], [25, 3, 2], [19, 4, 5], [30, 3, 3]]\n",
    "\n",
    "response = runtime.invoke_endpoint(\n",
    "    EndpointName=predictor.endpoint_name,\n",
    "#     EndpointName='sagemaker-scikit-learn-2024-01-18-12-22-28-194', # 변경필요\n",
    "    Body=json.dumps(x_data),  \n",
    "    ContentType='application/json'\n",
    ")\n",
    "\n",
    "\n",
    "result = json.loads(response['Body'].read().decode())\n",
    "print(result)"
   ]
  },
  {
   "cell_type": "code",
   "execution_count": null,
   "id": "2f2e25fd",
   "metadata": {},
   "outputs": [],
   "source": []
  }
 ],
 "metadata": {
  "kernelspec": {
   "display_name": "conda_python3",
   "language": "python",
   "name": "conda_python3"
  },
  "language_info": {
   "codemirror_mode": {
    "name": "ipython",
    "version": 3
   },
   "file_extension": ".py",
   "mimetype": "text/x-python",
   "name": "python",
   "nbconvert_exporter": "python",
   "pygments_lexer": "ipython3",
   "version": "3.10.13"
  }
 },
 "nbformat": 4,
 "nbformat_minor": 5
}
